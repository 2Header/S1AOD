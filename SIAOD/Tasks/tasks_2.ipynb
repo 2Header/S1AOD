{
 "cells": [
  {
   "cell_type": "markdown",
   "id": "arctic-stocks",
   "metadata": {},
   "source": [
    "### Задание №1\n",
    "Массив A состоит из целых положительных чисел длин отрезков. Составьте из трех отрезков такой треугольник, чтобы его периметр был максимально возможным. Если невозможно составить треугольник с положительной площадью функция возвращает 0."
   ]
  },
  {
   "cell_type": "code",
   "execution_count": 1,
   "id": "caring-truck",
   "metadata": {
    "scrolled": false
   },
   "outputs": [
    {
     "name": "stdout",
     "output_type": "stream",
     "text": [
      "5\n"
     ]
    }
   ],
   "source": [
    "perimetr_arr = [2,1,2]\n",
    "\n",
    "def largestPerimetr(arr):\n",
    "    arr.sort()\n",
    "    for i in range(len(arr)-1, 1, -1):\n",
    "        if arr[i] < arr[i-1] + arr[i-2]:\n",
    "            return arr[i] + arr[i-1] + arr[i-2]\n",
    "    return 0\n",
    "\n",
    "print(largestPerimetr(perimetr_arr))"
   ]
  },
  {
   "cell_type": "markdown",
   "id": "maritime-conversation",
   "metadata": {},
   "source": [
    "### Задание №2\n",
    "Дан массив неотрицательных целых чисел nums. Расположите их в таком порядке, чтобы вместе они образовали максимально возможное число. Замечание: Результат может быть очень большим числом, поэтому представьте его как string, а не integer."
   ]
  },
  {
   "cell_type": "code",
   "execution_count": 2,
   "id": "alert-charm",
   "metadata": {
    "scrolled": false
   },
   "outputs": [
    {
     "name": "stdout",
     "output_type": "stream",
     "text": [
      "877543222211\n"
     ]
    }
   ],
   "source": [
    "arr = [34, 12, 75, 1, 87, 222]\n",
    "temp = \"\"\n",
    "result = \"\"\n",
    "for i in range (len(arr)):\n",
    "    temp += str(arr[i])\n",
    "temp = sorted(temp)\n",
    "for j in range(len(temp)-1, -1, -1):\n",
    "    result += str(temp[j])\n",
    "print(result)"
   ]
  },
  {
   "cell_type": "markdown",
   "id": "catholic-roots",
   "metadata": {},
   "source": [
    "### Задание №3\n",
    "Дана матрица mat размером m * n, значения целочисленные. Напишите функцию, сортирующую каждую диагональ матрицы по возрастанию и возвращающую получившуюся матрицу."
   ]
  },
  {
   "cell_type": "code",
   "execution_count": 3,
   "id": "cleared-anniversary",
   "metadata": {
    "scrolled": false
   },
   "outputs": [
    {
     "name": "stdout",
     "output_type": "stream",
     "text": [
      "[[1, 1, 1, 1], [1, 2, 2, 2], [1, 2, 3, 3]]\n"
     ]
    }
   ],
   "source": [
    "arr = [[3,3,1,1],[2,2,1,2],[1,1,1,2]]\n",
    "m, n = len(arr), len(arr[0])\n",
    "\n",
    "def diagonal_sort(x, y):\n",
    "    temp = []\n",
    "    i = 0\n",
    "\n",
    "    while x+i < m and y+i < n:\n",
    "        temp.append(arr[x+i][y+i])\n",
    "        i += 1\n",
    "    \n",
    "    temp.sort()\n",
    "    i = 0 \n",
    "\n",
    "    while x+i < m and y+i < n:\n",
    "        arr[x+i][y+i] = temp.pop(0)\n",
    "        i += 1\n",
    "    \n",
    "for x in range(m):\n",
    "    diagonal_sort(x, 0)\n",
    "for y in range(1, n):\n",
    "    diagonal_sort(0, y)\n",
    "\n",
    "print(arr)"
   ]
  }
 ],
 "metadata": {
  "kernelspec": {
   "display_name": "Python 3 (ipykernel)",
   "language": "python",
   "name": "python3"
  },
  "language_info": {
   "codemirror_mode": {
    "name": "ipython",
    "version": 3
   },
   "file_extension": ".py",
   "mimetype": "text/x-python",
   "name": "python",
   "nbconvert_exporter": "python",
   "pygments_lexer": "ipython3",
   "version": "3.9.7"
  }
 },
 "nbformat": 4,
 "nbformat_minor": 5
}
