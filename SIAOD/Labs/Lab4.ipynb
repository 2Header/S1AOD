{
 "cells": [
  {
   "cell_type": "markdown",
   "id": "fifteen-sailing",
   "metadata": {},
   "source": [
    "# Лабораторная работа №4\n"
   ]
  },
  {
   "cell_type": "markdown",
   "id": "arctic-stocks",
   "metadata": {},
   "source": [
    "Реализовать следующие структуры данных:\n",
    "  \n",
    "● <b> Стек (stack): </b>  \n",
    "Операции для стека: \n",
    "<i> инициализация, проверка на пустоту, добавление нового элемента в начало, извлечение элемента из начала;  </i>  \n",
    "  \n",
    "● <b> Дек (двусторонняя очередь, deque):  </b>  \n",
    "Операции для дека: \n",
    "<i> инициализация, проверка на пустоту, добавление нового элемента в начало, добавление нового элемента в конец, извлечение элемента из начала, извлечение элемента из конца. </i>  \n",
    "  \n",
    "<i> Разработать программу обработки данных, содержащихся в заранее подготовленном txt-файле, в соответствии с заданиями, применив указанную в задании структуру данных. Результат работы программы вывести на экран и сохранить в отдельном txt-файле. </i>"
   ]
  },
  {
   "cell_type": "code",
   "execution_count": 4,
   "id": "b6d6e16e",
   "metadata": {},
   "outputs": [],
   "source": [
    "class Stack():\n",
    "    stack = []\n",
    "\n",
    "    def __init__(self):\n",
    "        self.stack = []\n",
    "\n",
    "    def is_empty(self):\n",
    "        if len(self.stack): return False\n",
    "        else: return True\n",
    "\n",
    "    def push(self, item):\n",
    "        self.stack.append(item)\n",
    "\n",
    "    def pop(self):\n",
    "        return self.stack.pop()"
   ]
  },
  {
   "cell_type": "code",
   "execution_count": 5,
   "id": "cef326b9",
   "metadata": {},
   "outputs": [],
   "source": [
    "class Deque():\n",
    "\n",
    "    def __init__(self, data = []):\n",
    "        self.deque = data\n",
    "\n",
    "    def is_empty(self):\n",
    "        if len(self.deque): return False\n",
    "        else: return True \n",
    "\n",
    "    def push_s(self, item):\n",
    "        self.deque.insert(0, item)\n",
    "\n",
    "    def push_f(self, item):\n",
    "        self.deque.append(item)\n",
    "\n",
    "    def pop_s(self):\n",
    "        return self.deque.pop(0)\n",
    "\n",
    "    def pop_f(self):\n",
    "        return self.deque.pop()"
   ]
  },
  {
   "cell_type": "markdown",
   "id": "5d7edb08",
   "metadata": {
    "scrolled": true
   },
   "source": [
    "### Задание №1\n",
    "Отсортировать строки файла, содержащие названия книг, в алфавитном порядке с использованием двух деков."
   ]
  },
  {
   "cell_type": "code",
   "execution_count": 6,
   "id": "e54d2edb",
   "metadata": {},
   "outputs": [
    {
     "name": "stdout",
     "output_type": "stream",
     "text": [
      "Файл не нашли :(\n",
      "Ошибка\n"
     ]
    }
   ],
   "source": [
    "def sorting_with_deq(data):\n",
    "    deque_1 = Deque()\n",
    "    deque_2 = Deque()\n",
    "    deque_1.push_s(data[0])\n",
    "    for i in range (1, len(data)):\n",
    "        temp = deque_1.pop_s()\n",
    "        if data[i] <= temp:\n",
    "            deque_1.push_s(temp)\n",
    "            deque_1.push_s(data[i])\n",
    "            continue\n",
    "        deque_1.push_s(temp)\n",
    "        temp1 = deque_1.pop_f()\n",
    "        if data[i] >= temp1:\n",
    "            deque_1.push_f(temp1)\n",
    "            deque_1.push_f(data[i])\n",
    "            continue\n",
    "        deque_1.push_f(temp1)\n",
    "        temp2 = deque_1.pop_s()\n",
    "        while data[i] >= temp2:\n",
    "            deque_2.push_f(temp2)\n",
    "            temp2 = deque_1.pop_s()\n",
    "        deque_1.push_s(temp2)\n",
    "        deque_1.push_s(data[i])\n",
    "        while deque_2.is_empty() is False:\n",
    "            deque_1.push_s(deque_2.pop_f())\n",
    "    return deque_1.deque\n",
    "\n",
    "try:\n",
    "    f1 = open('Тестовый.txt', 'r', encoding=\"utf-8\")\n",
    "    temp = []\n",
    "    for line in f1:\n",
    "        temp.append(line)\n",
    "    result = sorting_with_deq(temp)\n",
    "    print(result)\n",
    "except FileNotFoundError:\n",
    "    print(\"Файл не нашли :(\")\n",
    "\n",
    "try:\n",
    "    f2 = open(\"Вывод.txt\", \"a\", encoding=\"utf-8\")\n",
    "    f2.writelines(result)\n",
    "    f2.close()\n",
    "except:\n",
    "    print(\"Ошибка\")"
   ]
  },
  {
   "cell_type": "markdown",
   "id": "49fbd2a0",
   "metadata": {},
   "source": [
    "### Задание №2\n",
    "Дек содержит последовательность символов для шифровки сообщений. Дан текстовый файл, содержащий зашифрованное сообщение. Пользуясь деком, расшифровать текст. \n",
    "Известно, что при шифровке каждый символ сообщения заменялся следующим за ним в деке по часовой стрелке через один."
   ]
  },
  {
   "cell_type": "code",
   "execution_count": 7,
   "id": "17702ade",
   "metadata": {},
   "outputs": [
    {
     "name": "stdout",
     "output_type": "stream",
     "text": [
      "Файл не нашли :(\n"
     ]
    }
   ],
   "source": [
    "try:\n",
    "    f1 = open('Тестовый.txt', 'r', encoding=\"utf-8\")\n",
    "    deq = Deque([\"а\", \"б\", 'в', 'г', 'д', 'е', \"ё\", \"ж\", \"з\", \"и\", \"к\", \"л\", ])\n",
    "    result = \"\"\n",
    "    for line in f1:\n",
    "        for element in line:\n",
    "            while element != deq.deque[0]:\n",
    "                print(deq.deque[0])\n",
    "                deq.push_s(deq.pop_f())\n",
    "            if element == deq.deque[0]:\n",
    "                deq.push_f(deq.pop_s())\n",
    "                result += deq.deque[0]\n",
    "    print (result)\n",
    "except FileNotFoundError:\n",
    "    print(\"Файл не нашли :(\")"
   ]
  },
  {
   "cell_type": "markdown",
   "id": "c0894f47",
   "metadata": {},
   "source": [
    "### Задание №3\n",
    "Даны три стержня и n дисков различного размера. Диски можно надевать на стержни, образуя из них башни. Перенести n дисков со стержня А на стержень С, сохранив их первоначальный порядок. При переносе дисков необходимо соблюдать следующие правила:\n",
    "- на каждом шаге со стержня на стержень переносить только один диск;\n",
    "- диск нельзя помещать на диск меньшего размера;\n",
    "- для промежуточного хранения можно использовать стержень В.\n",
    "Реализовать алгоритм, используя три стека вместо стержней А, В, С. Информация о дисках хранится в исходном файле."
   ]
  },
  {
   "cell_type": "code",
   "execution_count": 8,
   "id": "9e91a9d4",
   "metadata": {},
   "outputs": [
    {
     "name": "stdout",
     "output_type": "stream",
     "text": [
      "[1, 2] [] [3]\n",
      "[1] [2] [3]\n",
      "[1] [2, 3] []\n",
      "[] [2, 3] [1]\n",
      "[3] [2] [1]\n",
      "[3] [] [1, 2]\n",
      "[] [] [1, 2, 3]\n",
      "None\n"
     ]
    }
   ],
   "source": [
    "A = Stack()\n",
    "B = Stack()\n",
    "C = Stack()\n",
    "\n",
    "def hanoi(n):\n",
    "    for i in range (1, n+1):\n",
    "        A.push(i)\n",
    "    one_hanoi(n, A, B, C)\n",
    "    \n",
    "def one_hanoi(n, a, b, c):\n",
    "    if n == 0:\n",
    "        return \n",
    "    one_hanoi(n-1, a, c, b)\n",
    "    c.push(a.pop())\n",
    "    print(A.stack, B.stack, C.stack)\n",
    "    one_hanoi(n-1, b, a, c)\n",
    "\n",
    "print(hanoi(3))"
   ]
  },
  {
   "cell_type": "markdown",
   "id": "e5b0be17",
   "metadata": {},
   "source": [
    "### Задание №4\n",
    "Дан текстовый файл с программой на алгоритмическом языке. За один просмотр файла проверить баланс круглых скобок в тексте, используя стек."
   ]
  },
  {
   "cell_type": "code",
   "execution_count": 9,
   "id": "5b1df60a",
   "metadata": {},
   "outputs": [
    {
     "name": "stdout",
     "output_type": "stream",
     "text": [
      "Файл не нашли :(\n"
     ]
    }
   ],
   "source": [
    "try:\n",
    "    f1 = open('Тестовый.txt', 'r', encoding=\"utf-8\")\n",
    "    sta = Stack()\n",
    "    controller = 0\n",
    "\n",
    "    for line in f1:\n",
    "        for element in line:\n",
    "            if element == \"(\" or element == \")\":\n",
    "                sta.push(element)\n",
    "\n",
    "    while sta.is_empty() is False:\n",
    "        element = sta.pop()\n",
    "        if element == \")\": controller += 1\n",
    "        elif element == \"(\": controller -= 1\n",
    "\n",
    "    if controller == 0: print(True)\n",
    "    else: print(False)\n",
    "\n",
    "except FileNotFoundError:\n",
    "    print(\"Файл не нашли :(\")"
   ]
  },
  {
   "cell_type": "markdown",
   "id": "c44cdd6b",
   "metadata": {},
   "source": [
    "### Задание №5\n",
    "Дан текстовый файл с программой на алгоритмическом языке. За один просмотр файла проверить баланс квадратных скобок в тексте, используя дек."
   ]
  },
  {
   "cell_type": "code",
   "execution_count": 5,
   "id": "36b8f400",
   "metadata": {},
   "outputs": [
    {
     "name": "stdout",
     "output_type": "stream",
     "text": [
      "Файл не нашли :(\n"
     ]
    }
   ],
   "source": [
    "try:\n",
    "    f1 = open('Тестовый.txt', 'r', encoding=\"utf-8\")\n",
    "    deq = Deque()\n",
    "\n",
    "    for line in f1:\n",
    "        for element in line:\n",
    "            if element == \"[\":\n",
    "                deq.push_s(element)\n",
    "            elif element == \"]\":\n",
    "                deq.push_f(element)\n",
    "\n",
    "    while deq.is_empty() is False:\n",
    "        if len(deq.deque) == 1:\n",
    "            print(False)\n",
    "            break\n",
    "        deq.pop_s()\n",
    "        deq.pop_f()\n",
    "        if deq.is_empty():\n",
    "            print(True)\n",
    "            break\n",
    "\n",
    "except FileNotFoundError:\n",
    "    print(\"Файл не нашли :(\")"
   ]
  },
  {
   "cell_type": "markdown",
   "id": "59d13dc7",
   "metadata": {},
   "source": [
    "### Задание №6\n",
    "Дан файл из символов. Используя стек, за один просмотр файла напечатать сначала все цифры, затем все буквы, и, наконец, все остальные символы, сохраняя исходный порядок в каждой группе символов."
   ]
  },
  {
   "cell_type": "code",
   "execution_count": 6,
   "id": "297e36c2",
   "metadata": {},
   "outputs": [
    {
     "name": "stdout",
     "output_type": "stream",
     "text": [
      "Файл не нашли :(\n",
      "Ошибка\n"
     ]
    }
   ],
   "source": [
    "try:\n",
    "    f1 = open('Тестовый.txt', 'r', encoding=\"utf-8\")\n",
    "    st_numbers = Stack()\n",
    "    st_letters = Stack()\n",
    "    st_others = Stack()\n",
    "    for line in f1:\n",
    "        for element in line:\n",
    "            if element.isalpha():\n",
    "                st_letters.push(element)\n",
    "            elif element.isdigit():\n",
    "                st_numbers.push(element)\n",
    "            else:\n",
    "                st_others.push(element)\n",
    "except FileNotFoundError:\n",
    "    print(\"Файл не нашли :(\")\n",
    "try:\n",
    "    f2 = open(\"Вывод.txt\", \"a\", encoding=\"utf-8\")\n",
    "    while st_numbers.is_empty() == False:\n",
    "        f2.write(st_numbers.pop())\n",
    "    while st_letters.is_empty() == False:\n",
    "        f2.write(st_letters.pop())\n",
    "    while st_others.is_empty() == False:\n",
    "        f2.write(st_others.pop())\n",
    "    f2.close()\n",
    "except:\n",
    "    print(\"Ошибка\")"
   ]
  },
  {
   "cell_type": "markdown",
   "id": "973f68bd",
   "metadata": {},
   "source": [
    "### Задание №7\n",
    "Дан файл из целых чисел. Используя дек, за один просмотр файла напечатать сначала все отрицательные числа, затем все положительные числа, сохраняя исходный порядок в каждой группе."
   ]
  },
  {
   "cell_type": "code",
   "execution_count": 7,
   "id": "c56fad66",
   "metadata": {},
   "outputs": [
    {
     "name": "stdout",
     "output_type": "stream",
     "text": [
      "Файл не нашли :(\n",
      "Ошибка\n"
     ]
    }
   ],
   "source": [
    "try:\n",
    "    f1 = open('Тестовый.txt', 'r', encoding=\"utf-8\")\n",
    "    deq = Deque()\n",
    "    for line in f1:\n",
    "        temp = line.split(\" \")\n",
    "        for i in temp:\n",
    "            if int(i) < 0:\n",
    "                deq.push_s(int(i))\n",
    "            else:\n",
    "                deq.push_f(int(i))\n",
    "except FileNotFoundError:\n",
    "    print(\"Файл не нашли :(\")\n",
    "try:\n",
    "    f2 = open(\"Вывод.txt\", \"a\", encoding=\"utf-8\")\n",
    "    while deq.is_empty() == False:\n",
    "        f2.write(str(deq.pop_s()) + \" \")\n",
    "    f2.close()\n",
    "except:\n",
    "    print(\"Ошибка\")"
   ]
  },
  {
   "cell_type": "markdown",
   "id": "b9228191",
   "metadata": {},
   "source": [
    "### Задание №8\n",
    "Дан текстовый файл. Используя стек, сформировать новый текстовый файл, содержащий строки исходного файла, записанные в обратном порядке: первая строка становится последней, вторая – предпоследней и т.д."
   ]
  },
  {
   "cell_type": "code",
   "execution_count": 8,
   "id": "981fbdfe",
   "metadata": {},
   "outputs": [
    {
     "name": "stdout",
     "output_type": "stream",
     "text": [
      "Файл не нашли :(\n",
      "Ошибка\n"
     ]
    }
   ],
   "source": [
    "try:\n",
    "    f1 = open('Тестовый.txt', 'r', encoding=\"utf-8\")\n",
    "    st = Stack()\n",
    "    for line in f1:\n",
    "        st.push(line)\n",
    "except FileNotFoundError:\n",
    "    print(\"Файл не нашли :(\")\n",
    "try:\n",
    "    f2 = open(\"Вывод.txt\", \"a\", encoding=\"utf-8\")\n",
    "    while st.is_empty() == False:\n",
    "        f2.write(st.pop())\n",
    "    f2.close()\n",
    "except:\n",
    "    print(\"Ошибка\")"
   ]
  },
  {
   "cell_type": "markdown",
   "id": "rental-jerusalem",
   "metadata": {},
   "source": [
    "### Вывод\n"
   ]
  },
  {
   "cell_type": "markdown",
   "id": "0c2b8899",
   "metadata": {},
   "source": [
    "При выполнении данной лабораторной работы, мы изучили работу с файлами в Python, а так же Stack - структура данных, в которой элементы храняться в порядке First-In/Last-Out и Deck - двухстороннюю очередь"
   ]
  }
 ],
 "metadata": {
  "kernelspec": {
   "display_name": "Python 3 (ipykernel)",
   "language": "python",
   "name": "python3"
  },
  "language_info": {
   "codemirror_mode": {
    "name": "ipython",
    "version": 3
   },
   "file_extension": ".py",
   "mimetype": "text/x-python",
   "name": "python",
   "nbconvert_exporter": "python",
   "pygments_lexer": "ipython3",
   "version": "3.10.3"
  }
 },
 "nbformat": 4,
 "nbformat_minor": 5
}
