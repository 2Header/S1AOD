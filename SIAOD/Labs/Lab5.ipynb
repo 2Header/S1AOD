{
 "cells": [
  {
   "cell_type": "markdown",
   "metadata": {
    "id": "WPvB9TcMmKA6"
   },
   "source": [
    "# Лабораторная работа №5\n",
    "# Рекурсия. Фракталы."
   ]
  },
  {
   "cell_type": "markdown",
   "metadata": {
    "id": "4clYOyb0mbEv"
   },
   "source": [
    "### Задание:\n",
    "Реализовать генерацию заданного типа фрактала с применением рекурсивных функций.\n",
    "\n",
    "\n",
    "Добавить возможность задания глубины фрактала. \n",
    "\n",
    "\n",
    "Оценить глубину рекурсии. \n",
    "\n",
    "\n",
    "Построить таблицу зависимости времени построения от глубины фрактала."
   ]
  },
  {
   "cell_type": "markdown",
   "metadata": {
    "id": "wDXHbUmMmhRL"
   },
   "source": [
    "### Список фракталов:\n",
    "\n",
    "Кривая Коха\n",
    "| Кривая Гильберта\n",
    "| Кривая Серпинского\n",
    "| Салфетка Серпинского\n",
    "| Ковер Серпинского\n",
    "| Дерево Пифагора "
   ]
  },
  {
   "cell_type": "markdown",
   "metadata": {
    "id": "Wggfn8l7nG72"
   },
   "source": [
    "### Выполнение:"
   ]
  },
  {
   "cell_type": "code",
   "execution_count": 7,
   "metadata": {},
   "outputs": [],
   "source": [
    "from datetime import datetime\n",
    "import datetime\n",
    "import turtle\n",
    "\n",
    "#screen \n",
    "WIDTH, HEIGHT = 1500, 1000\n",
    "screen = turtle.Screen()\n",
    "screen.screensize(3 * WIDTH, 3 * HEIGHT)\n",
    "screen.bgcolor('black')\n",
    "screen.delay(0)\n",
    "\n",
    "#turtle settings\n",
    "tur = turtle.Turtle()\n",
    "tur.speed(10000)\n",
    "tur.color('red')\n",
    "tur.ht()"
   ]
  },
  {
   "cell_type": "markdown",
   "metadata": {
    "id": "681a95mZnOSa"
   },
   "source": [
    "### Настройки экрана"
   ]
  },
  {
   "cell_type": "markdown",
   "metadata": {},
   "source": [
    "### Данные о фракталах"
   ]
  },
  {
   "cell_type": "code",
   "execution_count": 8,
   "metadata": {},
   "outputs": [],
   "source": [
    "# 0 = gens, 1 = step, 2 = angle, 3 = axiom 4 = char1, 5 = rule1, 6 = char2, 7 = rule2\n",
    "data = {\n",
    "    'Koch curve': [[2, 3, 4], 2, 60, \"F\", \"F\", \"F+F--F+F\", None, None],\n",
    "    'Gilbert curve': [[2, 3, 4], 5, 90, \"X\", \"X\", \"-YF+XFX+FY-\", \"Y\", \"+XF-YFY-FX+\"],\n",
    "    'Sierpinski napkin': [[2, 3], 3, 60, \"YF\", \"X\",\"YF+XF+Y\", \"Y\", \"XF-YF-X\"],\n",
    "    'Sierpinski carpet': [[2, 4], 2, 90, \"F+F+F+F\", \"F\", \"FF+F+F+F+FF\", None, None],\n",
    "    'Pythagor tree': [[2, 4], 3, 45, \"F[+X][-X]\",  \"X\", \"F[+F[+X][-X]][-F[+X][-X]]\", \"F\", \"FF\"]}"
   ]
  },
  {
   "cell_type": "code",
   "execution_count": 9,
   "metadata": {},
   "outputs": [],
   "source": [
    "time_results = []\n",
    "\n",
    "def add_rules(axiom):\n",
    "    res = ''\n",
    "    for chr in axiom:\n",
    "        if chr == chr1:\n",
    "            res += rule1\n",
    "        elif chr == chr2 and chr2 is not None:\n",
    "            res += rule2\n",
    "        else: \n",
    "            res += chr\n",
    "    return res\n",
    "\n",
    "def generate_path(gens, axiom):\n",
    "    for i in range (gens):\n",
    "        axiom = add_rules(axiom)\n",
    "    return axiom"
   ]
  },
  {
   "cell_type": "markdown",
   "metadata": {},
   "source": [
    "### Основной цикл"
   ]
  },
  {
   "cell_type": "code",
   "execution_count": 10,
   "metadata": {},
   "outputs": [],
   "source": [
    "for fractals in data:\n",
    "    stack = []\n",
    "\n",
    "    step = data[fractals][1]\n",
    "    angle = data[fractals][2]\n",
    "    axiom = data[fractals][3]\n",
    "    chr1, rule1 = data[fractals][4], data[fractals][5]\n",
    "    if data[fractals][6] is not None:\n",
    "        chr2, rule2 = data[fractals][6], data[fractals][7]\n",
    "    else:\n",
    "        chr2, rule2 = None, None\n",
    "\n",
    "    for gen in data[fractals][0]:\n",
    "        gens = gen\n",
    "        axiom = generate_path(gens, axiom)\n",
    "\n",
    "        #For tree\n",
    "        if fractals == 'Pythagor tree':\n",
    "            tur.left(90)\n",
    "\n",
    "        start_time = datetime.datetime.now()\n",
    "        \n",
    "        #Turtle rendering\n",
    "        for chr in axiom:\n",
    "            if chr == \"F\":\n",
    "                tur.forward(step)\n",
    "            elif chr == \"+\":\n",
    "                tur.right(angle)\n",
    "            elif chr == \"-\":\n",
    "                tur.left(angle)\n",
    "            elif chr == \"[\":\n",
    "                angle1, pos1 = tur.heading(), tur.pos()\n",
    "                stack.append((angle1, pos1))\n",
    "            elif chr == \"]\":\n",
    "                angle1, pos1 = stack.pop()\n",
    "                tur.setheading(angle1)\n",
    "                tur.penup()\n",
    "                tur.goto(pos1)\n",
    "                tur.pendown()\n",
    "        tur.goto(0, 0)\n",
    "        tur.clear()\n",
    "\n",
    "        elapsed_time = (datetime.datetime.now() - start_time).total_seconds()\n",
    "\n",
    "        time_results.append(f\"Отрисовка фрактала: {fractals}, c глубиной {gens}: {elapsed_time}\")\n",
    "\n",
    "    time_results.append(\"\")"
   ]
  },
  {
   "cell_type": "markdown",
   "metadata": {},
   "source": [
    "### Вывод результатов "
   ]
  },
  {
   "cell_type": "code",
   "execution_count": 11,
   "metadata": {},
   "outputs": [
    {
     "name": "stdout",
     "output_type": "stream",
     "text": [
      "Отрисовка фрактала: Koch curve, c глубиной 2: 0.011992\n",
      "Отрисовка фрактала: Koch curve, c глубиной 3: 0.811251\n",
      "Отрисовка фрактала: Koch curve, c глубиной 4: 60.159638\n",
      "\n",
      "Отрисовка фрактала: Gilbert curve, c глубиной 2: 0.00899\n",
      "Отрисовка фрактала: Gilbert curve, c глубиной 3: 0.854166\n",
      "Отрисовка фрактала: Gilbert curve, c глубиной 4: 72.502038\n",
      "\n",
      "Отрисовка фрактала: Sierpinski napkin, c глубиной 2: 0.004997\n",
      "Отрисовка фрактала: Sierpinski napkin, c глубиной 3: 0.15125\n",
      "\n",
      "Отрисовка фрактала: Sierpinski carpet, c глубиной 2: 0.115933\n",
      "Отрисовка фрактала: Sierpinski carpet, c глубиной 4: 97.022143\n",
      "\n",
      "Отрисовка фрактала: Pythagor tree, c глубиной 2: 0.013978\n",
      "Отрисовка фрактала: Pythagor tree, c глубиной 4: 4.477253\n",
      "\n"
     ]
    }
   ],
   "source": [
    "for result in time_results:\n",
    "    print(result)\n",
    "screen.exitonclick()"
   ]
  }
 ],
 "metadata": {
  "colab": {
   "collapsed_sections": [],
   "name": "Lab5.ipynb",
   "provenance": []
  },
  "kernelspec": {
   "display_name": "Python 3 (ipykernel)",
   "language": "python",
   "name": "python3"
  },
  "language_info": {
   "codemirror_mode": {
    "name": "ipython",
    "version": 3
   },
   "file_extension": ".py",
   "mimetype": "text/x-python",
   "name": "python",
   "nbconvert_exporter": "python",
   "pygments_lexer": "ipython3",
   "version": "3.10.3"
  }
 },
 "nbformat": 4,
 "nbformat_minor": 1
}
