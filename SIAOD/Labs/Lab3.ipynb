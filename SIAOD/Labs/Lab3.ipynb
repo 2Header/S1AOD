{
 "cells": [
  {
   "cell_type": "markdown",
   "id": "db4b50f0",
   "metadata": {},
   "source": [
    "# Лабораторная работа №3\n"
   ]
  },
  {
   "cell_type": "markdown",
   "id": "annual-symbol",
   "metadata": {},
   "source": [
    "### Оглавление\n",
    "1. [Задание 1](#Задание-№1)\n",
    "2. [Задание 2](#Задание-№2)\n",
    "4. [Вывод](#Вывод)"
   ]
  },
  {
   "cell_type": "markdown",
   "id": "independent-spirit",
   "metadata": {},
   "source": [
    "> Дополнительные модули, использованные при выполнение лабораторной"
   ]
  },
  {
   "cell_type": "code",
   "execution_count": 1,
   "id": "4839be2b",
   "metadata": {},
   "outputs": [],
   "source": [
    "# Необходим при замере скорости выполнения кода\n",
    "from datetime import datetime as t\n",
    "# Нужен для создания словаря в алг. Бойера-Мура\n",
    "from collections import defaultdict"
   ]
  },
  {
   "cell_type": "markdown",
   "id": "inclusive-motorcycle",
   "metadata": {},
   "source": [
    "### Задание №1\n",
    "Реализовать методы поиска подстроки в строке. Добавить возможность ввода строки и подстроки с клавиатуры. Предусмотреть возможность существования пробела. Реализовать возможность выбора опции чувствительности или нечувствительности к регистру. Оценить время работы каждого алгоритма поиска и сравнить его со временем работы стандартной функции поиска, используемой в выбранном языке программирования."
   ]
  },
  {
   "cell_type": "markdown",
   "id": "interracial-communication",
   "metadata": {},
   "source": [
    "#### Алгоритм Кнута-Морриса-Пратта"
   ]
  },
  {
   "cell_type": "code",
   "execution_count": null,
   "id": "presidential-level",
   "metadata": {},
   "outputs": [],
   "source": [
    "t = \"бобоба\" #подстрока\n",
    "\n",
    "p = [0]*len(t)\n",
    "j = 0\n",
    "i = 1\n",
    "\n",
    "while i < len(t):\n",
    "    if t[j] == t[i]:\n",
    "        p[i] = j+1\n",
    "        i += 1\n",
    "        j += 1\n",
    "    else:\n",
    "        if j == 0:\n",
    "            p[i] = 0\n",
    "            i += 1\n",
    "        else:\n",
    "            j = p[j-1]\n",
    "\n",
    "print(p)\n",
    "\n",
    "a = \"бобобесь бобобась\" #строка\n",
    "m = len(t)\n",
    "n = len(a)\n",
    "\n",
    "i = 0\n",
    "j = 0\n",
    "while i < n:\n",
    "    if a[i] == t[j]:\n",
    "        i += 1\n",
    "        j += 1\n",
    "        if j == m:\n",
    "            print(\"Подстрока найдена\")\n",
    "            break\n",
    "    else:\n",
    "        if j > 0:\n",
    "            j = p[j-1]\n",
    "        else:\n",
    "            i += 1\n",
    "\n",
    "if i == n and j != m:\n",
    "    print(\"Подстрока не найден\")"
   ]
  },
  {
   "cell_type": "markdown",
   "id": "downtown-option",
   "metadata": {},
   "source": [
    "#### Упрощенный алгоритм Бойера-Мура"
   ]
  },
  {
   "cell_type": "code",
   "execution_count": 5,
   "id": "respective-reggae",
   "metadata": {},
   "outputs": [
    {
     "name": "stdout",
     "output_type": "stream",
     "text": [
      "{'р': 1, 'о': 3, 'З': 4, '*': 5}\n",
      "Индекс найденной подстроки: 46\n"
     ]
    }
   ],
   "source": [
    "obraz = \"Зорро\" \n",
    "stroka = \"Ещё в 17 веке в Испании был известен персонаж Зорро\"\n",
    "\n",
    "#Таблица смещений \n",
    "def table_s(str1):\n",
    "    S = set()\n",
    "    symbols = {}\n",
    "    for i in range (len(obraz) - 2, -1, -1):\n",
    "        if obraz[i] not in S:\n",
    "            symbols[obraz[i]] = len(obraz) - i - 1\n",
    "            S.add(obraz[i])\n",
    "\n",
    "    if obraz[len(obraz) - 1] not in S:\n",
    "        symbols[obraz[len(obraz) - 1]] = len(obraz)\n",
    "\n",
    "    symbols['*'] = len(obraz)\n",
    "\n",
    "    return symbols\n",
    "\n",
    "print(table_s(obraz))\n",
    "\n",
    "def murSearch(str1, x):\n",
    "    d = table_s(x)\n",
    "    i = len(x)-1\n",
    "    lenObraz = j = k = len(x) - 1\n",
    "\n",
    "    while j > 0 and i <= len(str1):\n",
    "        if str1[k-1] == x[j-1]:\n",
    "            k -= 1\n",
    "            j -= 1\n",
    "        else:\n",
    "            if d.get(str1[k]) != None:\n",
    "                i += d[str1[k]]\n",
    "            else:\n",
    "                i += d['*']\n",
    "            j = lenObraz\n",
    "            k = i\n",
    "    \n",
    "    if j <=0:\n",
    "        return f\"Индекс найденной подстроки: {k}\"\n",
    "    return \"Строка не найдена \"\n",
    "\n",
    "print(murSearch(stroka, obraz))"
   ]
  },
  {
   "cell_type": "markdown",
   "id": "hybrid-memorial",
   "metadata": {},
   "source": [
    "### Задание №2\n",
    "Написать программу, определяющую, является ли данное\n",
    "расположение «решаемым», то есть можно ли из него за конечное число\n",
    "шагов перейти к правильному. Если это возможно, то необходимо найти хотя\n",
    "бы одно решение - последовательность движений, после которой числа будут\n",
    "расположены в правильном порядке.\n",
    "#### Входные данные: массив чисел, представляющий собой расстановку в\n",
    "Порядке «слева направо, сверху вниз». Число 0 обозначает пустое поле.\n",
    "Например, массив [1, 2, 3, 4, 5, 6, 7, 8, 9, 10, 11, 12, 13, 14, 15, 0] представляет\n",
    "собой «решенную» позицию элементов.\n",
    "#### Выходные данные: если решения нет, то функция должна вернуть\n",
    "Пустой массив []. Если решение есть, то необходимо представить решение —\n",
    "для каждого шага записывается номер передвигаемого на данном шаге\n",
    "элемента. "
   ]
  },
  {
   "cell_type": "code",
   "execution_count": null,
   "id": "eleven-generic",
   "metadata": {},
   "outputs": [
    {
     "name": "stdout",
     "output_type": "stream",
     "text": [
      "  1  2  3  4\n",
      "  5  6  7  0\n",
      "  8 13  9 11\n",
      " 12 10 14 15 \n",
      "\n"
     ]
    }
   ],
   "source": [
    "from queue import PriorityQueue\n",
    "\n",
    "class Position: \n",
    "    def __init__ (self, position, start_distance):\n",
    "        self.position = position\n",
    "        self.start_distance = start_distance\n",
    "\n",
    "    def __lt__ (self, other):\n",
    "        return  other.start_distance > self.start_distance\n",
    "\n",
    "    def __str__ (self):\n",
    "        return '\\n'.join((N*'{:3}').format(*[i%(N*N) for i in self.position[i:]]) for i in range(0, N*N, N))\n",
    "\n",
    "N = 4\n",
    "\n",
    "def moves(position):\n",
    "    blank = position.index(0)\n",
    "    i, j = divmod(blank, N)\n",
    "    offsets = []\n",
    "    if i > 0: offsets.append(-N)\n",
    "    if i < N - 1: offsets.append(N)\n",
    "    if j > 0: offsets.append(-1)\n",
    "    if j < N - 1: offsets.append(1)\n",
    "    for offset in offsets:\n",
    "        swap = blank + offset\n",
    "        yield tuple(position[swap] if x==blank else position[blank] if x==swap else position[x] for x in range(N*N))\n",
    "\n",
    "def parity(permutation):\n",
    "    seen, cycles = set(), 0\n",
    "    for i in permutation:\n",
    "        if i not in seen:\n",
    "            cycles += 1\n",
    "            while i not in seen:\n",
    "                seen.add(i)  \n",
    "                i = permutation[i]\n",
    "    return (cycles + len(permutation)) % 2\n",
    "\n",
    "SOLVED = (1, 2, 3, 4, 5, 6, 7, 8, 9, 10, 11, 12, 13, 14, 15, 0)\n",
    "start = [1, 2, 3,  4, 5, 6, 7, 0,8, 13, 9, 11, 12, 10, 14, 15]\n",
    "\n",
    "if parity(start) == 0:\n",
    "    print('Неверно')\n",
    "else:\n",
    "    start = tuple(start)\n",
    "    p = Position(start, 0)\n",
    "    print(p, '\\n')\n",
    "\n",
    "    candidates = PriorityQueue()\n",
    "    candidates.put(p)\n",
    "\n",
    "    visited = set([p])\n",
    "    care_from = {p.position: None}\n",
    "\n",
    "    while p.position != SOLVED:\n",
    "        p = candidates.get()\n",
    "        for k in moves(p.position):\n",
    "            if k not in visited:\n",
    "                candidates.put(Position(k, p.start_distance + 1))\n",
    "                care_from[k] = p\n",
    "                visited.add(k)\n",
    "\n",
    "    path = []\n",
    "    prev = p\n",
    "    while p.position != start:\n",
    "        p = care_from[p.position]\n",
    "        number = p.position[prev.position.index(0)]\n",
    "        path.append(number)\n",
    "        prev = p\n",
    "    path.reverse()\n",
    "\n",
    "    print(path)"
   ]
  },
  {
   "cell_type": "markdown",
   "id": "arbitrary-amazon",
   "metadata": {},
   "source": [
    "### Вывод"
   ]
  },
  {
   "cell_type": "markdown",
   "id": "71bc58bf",
   "metadata": {},
   "source": []
  }
 ],
 "metadata": {
  "kernelspec": {
   "display_name": "Python 3 (ipykernel)",
   "language": "python",
   "name": "python3"
  },
  "language_info": {
   "codemirror_mode": {
    "name": "ipython",
    "version": 3
   },
   "file_extension": ".py",
   "mimetype": "text/x-python",
   "name": "python",
   "nbconvert_exporter": "python",
   "pygments_lexer": "ipython3",
   "version": "3.10.3"
  }
 },
 "nbformat": 4,
 "nbformat_minor": 5
}
