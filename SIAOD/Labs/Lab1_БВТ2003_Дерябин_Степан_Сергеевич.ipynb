{
 "cells": [
  {
   "cell_type": "markdown",
   "id": "991073fd",
   "metadata": {},
   "source": [
    "# Лабортаорная работа №1\n",
    "## \n",
    "### Задание №1"
   ]
  },
  {
   "cell_type": "code",
   "execution_count": 223,
   "id": "9f421a92",
   "metadata": {},
   "outputs": [
    {
     "name": "stdout",
     "output_type": "stream",
     "text": [
      "Hello, World!\n"
     ]
    }
   ],
   "source": [
    "print(\"Hello, World!\")"
   ]
  },
  {
   "cell_type": "markdown",
   "id": "401037e2",
   "metadata": {},
   "source": [
    "### Задание №2:\n",
    "####  Написать генератор случайных матриц(многомерных), который принимает\n",
    "#### опциональные параметры m, n, min_limit, max_limit, где m и n указывают размер\n",
    "#### матрицы, а min_lim и max_lim - минимальное и максимальное значение для\n",
    "#### генерируемого числа . По умолчанию при отсутствии параметров принимать следующие\n",
    "#### значения:\n",
    "#### m = 50\n",
    "#### n = 50\n",
    "#### min_limit = -250\n",
    "#### max_limit = 1000 + (номер своего варианта)\n"
   ]
  },
  {
   "cell_type": "code",
   "execution_count": 224,
   "id": "1ae7dccb",
   "metadata": {},
   "outputs": [
    {
     "name": "stdout",
     "output_type": "stream",
     "text": [
      "[[-172    4  178 ...  599 -211  200]\n",
      " [ 557  -51  319 ...  226  305  664]\n",
      " [ 460 -114  352 ...  566  445 -184]\n",
      " ...\n",
      " [ 785  392  632 ...  233   91  700]\n",
      " [ 146  499  874 ...  650  841  972]\n",
      " [ 198   57  444 ...  634  -13  526]]\n"
     ]
    }
   ],
   "source": [
    "import numpy as np\n",
    "m = 100\n",
    "n = 100\n",
    "min_limit = -250\n",
    "max_limit = 1000\n",
    "array = np.random.randint(min_limit, max_limit, (m, n))\n",
    "print(array)"
   ]
  },
  {
   "cell_type": "markdown",
   "id": "e41db3c4",
   "metadata": {},
   "source": [
    "### Задание №3:\n",
    "#### Реализовать методы сортировки строк числовой матрицы в соответствии с\n",
    "#### заданием. Оценить время работы каждого алгоритма сортировки и сравнить его со\n",
    "#### временем стандартной функции сортировки. Испытания проводить на сгенерированных\n",
    "#### матрицах.\n"
   ]
  },
  {
   "cell_type": "markdown",
   "id": "16a6a79d",
   "metadata": {},
   "source": [
    "#### Создание матрицы:"
   ]
  },
  {
   "cell_type": "code",
   "execution_count": 225,
   "id": "13e3fc1b",
   "metadata": {},
   "outputs": [],
   "source": [
    "import numpy as np\n",
    "import time\n",
    "import math\n",
    "\n",
    "m = 100\n",
    "n = 100\n",
    "min_limit = -250\n",
    "max_limit = 1000\n",
    "array = np.random.randint(min_limit, max_limit, (m, n))\n",
    "\n",
    "time_results = {}"
   ]
  },
  {
   "cell_type": "markdown",
   "id": "4901a9df",
   "metadata": {},
   "source": [
    "#### Сортировка выбором:"
   ]
  },
  {
   "cell_type": "code",
   "execution_count": 226,
   "id": "bd3f7ffd",
   "metadata": {},
   "outputs": [],
   "source": [
    "def selectionsort (arr):\n",
    "    for z in range (len(arr)):\n",
    "        for i in range (len(arr)-1):\n",
    "            minimum = i\n",
    "            for j in range (i+1,len(arr)):\n",
    "                if arr[z, j] < arr[z, minimum]:\n",
    "                    minimum = j\n",
    "            arr[z, i], arr[z, minimum] = arr[z, minimum], arr[z, i]\n",
    "    return arr"
   ]
  },
  {
   "cell_type": "markdown",
   "id": "20da4302",
   "metadata": {},
   "source": [
    "#### Сортировка обменом (пузырьковая)"
   ]
  },
  {
   "cell_type": "code",
   "execution_count": 227,
   "id": "a1f71455",
   "metadata": {},
   "outputs": [],
   "source": [
    "def swapsort (arr):\n",
    "    for z in range (len(arr)):\n",
    "        for i in range (len(arr)-1):\n",
    "            for j in range (n-i-1):\n",
    "                if (arr[z, j] > arr[z, j+1]):\n",
    "                    arr[z, j], arr[z, j+1] = arr[z, j+1], arr[z, j]\n",
    "    return arr"
   ]
  },
  {
   "cell_type": "markdown",
   "id": "1743d5a8",
   "metadata": {},
   "source": [
    "#### Сортировка вставкой"
   ]
  },
  {
   "cell_type": "code",
   "execution_count": 228,
   "id": "8ad1ca68",
   "metadata": {},
   "outputs": [],
   "source": [
    "def insertionsort (arr):\n",
    "    for z in range (len(arr)):\n",
    "        for i in range (1, len(arr)):\n",
    "            element = arr[z, i]\n",
    "            j = i-1\n",
    "            while j>=0 and element < arr[z, j]:\n",
    "                arr[z, j+1] = arr[z, j]\n",
    "                j -=1\n",
    "            arr[z, j+1] = element\n",
    "    return arr"
   ]
  },
  {
   "cell_type": "markdown",
   "id": "99c42760",
   "metadata": {},
   "source": [
    "#### Cортировка Шелла"
   ]
  },
  {
   "cell_type": "code",
   "execution_count": 229,
   "id": "5e770f42",
   "metadata": {},
   "outputs": [],
   "source": [
    "def shellsort(arr):\n",
    "    for z in range (len(arr)):\n",
    "        a = len(arr)//2\n",
    "        while a > 0:\n",
    "            for i in range (a, len(arr)):\n",
    "                temp = arr[z, i]\n",
    "                j = i\n",
    "                while j >= a and arr[z, j - a] > temp:\n",
    "                     arr[z, j] = array[z, j - a]\n",
    "                     j -= a\n",
    "                arr[z, j] = temp\n",
    "            a //= 2\n",
    "    return arr"
   ]
  },
  {
   "cell_type": "markdown",
   "id": "0327c0c7",
   "metadata": {},
   "source": [
    "#### Быстрая сортировка"
   ]
  },
  {
   "cell_type": "code",
   "execution_count": 230,
   "id": "5dc37702",
   "metadata": {},
   "outputs": [],
   "source": [
    "def quicksort(arr):\n",
    "    if len(arr) <= 1:\n",
    "        return arr\n",
    "    else:\n",
    "        q = arr[0]\n",
    "        less = []\n",
    "        equal = []\n",
    "        more = []\n",
    "        for i in arr:\n",
    "            if i < q:\n",
    "                less.append(i)\n",
    "            elif i > q:\n",
    "                more.append(i)\n",
    "            else:\n",
    "                equal.append(i)\n",
    "        return quicksort(less) + equal + quicksort(more)"
   ]
  },
  {
   "cell_type": "markdown",
   "id": "3fe359c6",
   "metadata": {},
   "source": [
    "#### Пирамидальная сортировка"
   ]
  },
  {
   "cell_type": "code",
   "execution_count": 231,
   "id": "97b3c97c",
   "metadata": {},
   "outputs": [],
   "source": [
    "def heapsort(arr):\n",
    "    for i in range (len(arr)//2 - 1, -1, -1):\n",
    "        heapify(arr, i, len(arr))\n",
    "    for i in range(len(arr) - 1, 0, -1):\n",
    "        arr[0], arr[i] = arr[i], arr[0]\n",
    "        heapify(arr, 0, i)\n",
    "    return arr\n",
    "\n",
    "def heapify (arr, i, s):\n",
    "    left = 2*i+1\n",
    "    right = 2*i+2\n",
    "    if left < s and arr[left] > arr[i]:\n",
    "        largest = left\n",
    "    else:\n",
    "        largest = i\n",
    "    if right < s and arr[right] > arr[i]:\n",
    "        largest = right\n",
    "    if (largest != i):\n",
    "        arr[largest], arr[i] = arr[i], arr[largest]\n",
    "        heapify(arr, i, s)"
   ]
  },
  {
   "cell_type": "markdown",
   "id": "6e422b4c",
   "metadata": {},
   "source": [
    "#### Турнирная сортировка "
   ]
  },
  {
   "cell_type": "code",
   "execution_count": 232,
   "id": "89bcd8e6",
   "metadata": {},
   "outputs": [],
   "source": [
    "def build(A, B, x, l, r):\n",
    "    if l == r:\n",
    "        B[x] = (A[l], x)\n",
    "    else:\n",
    "        mid = (l + r)//2\n",
    "        build (A, B, 2 * x, l, mid)\n",
    "        build (A, B, (2 * x) + 1, mid + 1, r)\n",
    "        if B[(2 * x) + 1][0] < B[2 * x][0]:\n",
    "            B[x] = B[(2 * x) + 1]\n",
    "        else:\n",
    "            B[x] = B[2 * x]\n",
    "            \n",
    "def pop(B):\n",
    "    result = B[1][0]\n",
    "    index = B[1][1]\n",
    "    B[index] = None\n",
    "    while index > 1:\n",
    "        index //=2\n",
    "        if B[index * 2] is None:\n",
    "            minimum = B[(index * 2) + 1]\n",
    "        elif B[(index * 2) + 1] is None:\n",
    "            minimum = B[index * 2]\n",
    "        else:\n",
    "            minimum = min(B[index * 2], B[(index * 2) + 1])\n",
    "        if minimum == B[index]:\n",
    "            break\n",
    "        B[index] = minimum\n",
    "    return result\n",
    "\n",
    "def turn(arr):\n",
    "    temp = [None] * (2 ** (math.ceil(math.log2(len(arr))) + 1))\n",
    "    build(arr, temp, 1, 0, len(arr) - 1)\n",
    "    arr_result = [pop(temp) for _ in range (len(arr))]\n",
    "    return arr_result"
   ]
  },
  {
   "cell_type": "code",
   "execution_count": 233,
   "id": "a00100fd",
   "metadata": {},
   "outputs": [
    {
     "name": "stdout",
     "output_type": "stream",
     "text": [
      "Затраченное время =  265186600 ns \n",
      " Преобразованная матрица: \n",
      " [[-250 -244 -239 ...  974  985  990]\n",
      " [-234 -223 -216 ...  987  992  995]\n",
      " [-229 -220 -193 ...  953  962  970]\n",
      " ...\n",
      " [-247 -238 -205 ...  982  990  998]\n",
      " [-243 -238 -220 ...  944  950  972]\n",
      " [-208 -207 -198 ...  962  985  994]]\n"
     ]
    }
   ],
   "source": [
    "#Отсчёт времени и вывод результатов сортировки выбором\n",
    "matrix_copy = array.copy()\n",
    "start_time = time.time_ns() \n",
    "selectionsort(matrix_copy)\n",
    "elapsed_time = (time.time_ns() - start_time)\n",
    "time_results.update(dict(Выбором=elapsed_time))\n",
    "print(\"Затраченное время = \", elapsed_time, \"ns\", \"\\n\", \"Преобразованная матрица:\", \"\\n\", matrix_copy)"
   ]
  },
  {
   "cell_type": "code",
   "execution_count": 234,
   "id": "0be8daa4",
   "metadata": {},
   "outputs": [
    {
     "name": "stdout",
     "output_type": "stream",
     "text": [
      "Затраченное время =  243176200 ns \n",
      " Преобразованная матрица: \n",
      " [[-250 -244 -239 ...  974  985  990]\n",
      " [-234 -223 -216 ...  987  992  995]\n",
      " [-229 -220 -193 ...  953  962  970]\n",
      " ...\n",
      " [-247 -238 -205 ...  982  990  998]\n",
      " [-243 -238 -220 ...  944  950  972]\n",
      " [-208 -207 -198 ...  962  985  994]]\n"
     ]
    }
   ],
   "source": [
    "#Отсчёт времени и вывод результатов сортировки обменом\n",
    "matrix_copy = array.copy()\n",
    "start_time = time.time_ns() \n",
    "selectionsort(matrix_copy)\n",
    "elapsed_time = (time.time_ns() - start_time)\n",
    "time_results.update(dict(Обменом=elapsed_time))\n",
    "print(\"Затраченное время = \", elapsed_time, \"ns\", \"\\n\", \"Преобразованная матрица:\", \"\\n\", matrix_copy)"
   ]
  },
  {
   "cell_type": "code",
   "execution_count": 235,
   "id": "ef1c63a6",
   "metadata": {},
   "outputs": [
    {
     "name": "stdout",
     "output_type": "stream",
     "text": [
      "Затраченное время =  250175300 ns \n",
      " Преобразованная матрица: \n",
      " [[-250 -244 -239 ...  974  985  990]\n",
      " [-234 -223 -216 ...  987  992  995]\n",
      " [-229 -220 -193 ...  953  962  970]\n",
      " ...\n",
      " [-247 -238 -205 ...  982  990  998]\n",
      " [-243 -238 -220 ...  944  950  972]\n",
      " [-208 -207 -198 ...  962  985  994]]\n"
     ]
    }
   ],
   "source": [
    "#Отсчёт времени и вывод результатов сортировки вставкой\n",
    "matrix_copy = array.copy()\n",
    "start_time = time.time_ns() \n",
    "selectionsort(matrix_copy)\n",
    "elapsed_time = (time.time_ns() - start_time)\n",
    "time_results.update(dict(Вставкой=elapsed_time))\n",
    "print(\"Затраченное время = \", elapsed_time, \"ns\", \"\\n\", \"Преобразованная матрица:\", \"\\n\", matrix_copy)"
   ]
  },
  {
   "cell_type": "code",
   "execution_count": 236,
   "id": "dd04ac0e",
   "metadata": {},
   "outputs": [
    {
     "name": "stdout",
     "output_type": "stream",
     "text": [
      "Затраченное время =  229178100 ns \n",
      " Преобразованная матрица: \n",
      " [[-250 -244 -239 ...  974  985  990]\n",
      " [-234 -223 -216 ...  987  992  995]\n",
      " [-229 -220 -193 ...  953  962  970]\n",
      " ...\n",
      " [-247 -238 -205 ...  982  990  998]\n",
      " [-243 -238 -220 ...  944  950  972]\n",
      " [-208 -207 -198 ...  962  985  994]]\n"
     ]
    }
   ],
   "source": [
    "#Отсчёт времени и вывод результатов сортировки Шелла\n",
    "matrix_copy = array.copy()\n",
    "start_time = time.time_ns() \n",
    "selectionsort(matrix_copy)\n",
    "elapsed_time = (time.time_ns() - start_time)\n",
    "time_results.update(dict(Шелла=elapsed_time))\n",
    "print(\"Затраченное время = \", elapsed_time, \"ns\", \"\\n\", \"Преобразованная матрица:\", \"\\n\", matrix_copy)"
   ]
  },
  {
   "cell_type": "code",
   "execution_count": 237,
   "id": "707b72cd",
   "metadata": {},
   "outputs": [
    {
     "name": "stdout",
     "output_type": "stream",
     "text": [
      "Затраченное время =  45030300 ns \n",
      " Преобразованная матрица: \n",
      " [[-250 -244  974 ...  386  927  990]\n",
      " [-234 -223  992 ...  597  970  995]\n",
      " [-229 -220  953 ...  667  962  970]\n",
      " ...\n",
      " [-247 -238  935 ...  445  923  998]\n",
      " [-243 -238  944 ...  433  950  972]\n",
      " [-208 -207  985 ...  334  905  994]]\n"
     ]
    }
   ],
   "source": [
    "#Отсчёт времени и вывод результатов пирамидальной сортировки\n",
    "matrix_copy = array.copy()\n",
    "start_time = time.time_ns() \n",
    "for i, s in enumerate(matrix_copy):\n",
    "    matrix_copy[i] = heapsort(s)\n",
    "elapsed_time = (time.time_ns() - start_time)\n",
    "time_results.update(dict(Пирамидальная=elapsed_time))\n",
    "print(\"Затраченное время = \", elapsed_time, \"ns\", \"\\n\", \"Преобразованная матрица:\", \"\\n\", matrix_copy)"
   ]
  },
  {
   "cell_type": "code",
   "execution_count": 238,
   "id": "aec645af",
   "metadata": {},
   "outputs": [
    {
     "name": "stdout",
     "output_type": "stream",
     "text": [
      "Затраченное время =  18011600 ns \n",
      " Преобразованная матрица: \n",
      " [[-250 -244 -239 ...  974  985  990]\n",
      " [-234 -223 -216 ...  987  992  995]\n",
      " [-229 -220 -193 ...  953  962  970]\n",
      " ...\n",
      " [-247 -238 -205 ...  982  990  998]\n",
      " [-243 -238 -220 ...  944  950  972]\n",
      " [-208 -207 -198 ...  962  985  994]]\n"
     ]
    }
   ],
   "source": [
    "#Отсчёт времени и вывод результатов быстрой сортировки\n",
    "matrix_copy = array.copy()\n",
    "start_time = time.time_ns() \n",
    "for i, s in enumerate(matrix_copy):\n",
    "    matrix_copy[i] = quicksort(s)\n",
    "elapsed_time = (time.time_ns() - start_time)\n",
    "time_results.update(dict(Быстрая=elapsed_time))\n",
    "print(\"Затраченное время = \", elapsed_time, \"ns\", \"\\n\", \"Преобразованная матрица:\", \"\\n\", matrix_copy)"
   ]
  },
  {
   "cell_type": "code",
   "execution_count": 239,
   "id": "6999ac26",
   "metadata": {},
   "outputs": [
    {
     "name": "stdout",
     "output_type": "stream",
     "text": [
      "Затраченное время =  55037800 ns \n",
      " Преобразованная матрица: \n",
      " [[-250 -244 -239 ...  974  985  990]\n",
      " [-234 -223 -216 ...  987  992  995]\n",
      " [-229 -220 -193 ...  953  962  970]\n",
      " ...\n",
      " [-247 -238 -205 ...  982  990  998]\n",
      " [-243 -238 -220 ...  944  950  972]\n",
      " [-208 -207 -198 ...  962  985  994]]\n"
     ]
    }
   ],
   "source": [
    "#Отсчёт времени и вывод результатов турнирной сортировки\n",
    "matrix_copy = array.copy()\n",
    "start_time = time.time_ns() \n",
    "for i, s in enumerate(matrix_copy):\n",
    "    matrix_copy[i] = turn(s)\n",
    "elapsed_time = (time.time_ns() - start_time)\n",
    "time_results.update(dict(Турнирная=elapsed_time))\n",
    "print(\"Затраченное время = \", elapsed_time, \"ns\", \"\\n\", \"Преобразованная матрица:\", \"\\n\", matrix_copy)"
   ]
  },
  {
   "cell_type": "markdown",
   "id": "dc72c204",
   "metadata": {},
   "source": [
    "#### Вывод результатов затраченного времени:"
   ]
  },
  {
   "cell_type": "code",
   "execution_count": 240,
   "id": "fab65c7a",
   "metadata": {},
   "outputs": [
    {
     "name": "stdout",
     "output_type": "stream",
     "text": [
      "Выбором - 265186600 ns\n",
      "Обменом - 243176200 ns\n",
      "Вставкой - 250175300 ns\n",
      "Шелла - 229178100 ns\n",
      "Пирамидальная - 45030300 ns\n",
      "Быстрая - 18011600 ns\n",
      "Турнирная - 55037800 ns\n"
     ]
    }
   ],
   "source": [
    "for i, j in time_results.items():\n",
    "    print(f\"{i} - {j} ns\")"
   ]
  }
 ],
 "metadata": {
  "kernelspec": {
   "display_name": "Python 3 (ipykernel)",
   "language": "python",
   "name": "python3"
  },
  "language_info": {
   "codemirror_mode": {
    "name": "ipython",
    "version": 3
   },
   "file_extension": ".py",
   "mimetype": "text/x-python",
   "name": "python",
   "nbconvert_exporter": "python",
   "pygments_lexer": "ipython3",
   "version": "3.10.3"
  }
 },
 "nbformat": 4,
 "nbformat_minor": 5
}
